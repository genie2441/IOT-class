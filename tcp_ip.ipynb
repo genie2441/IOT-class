{
  "nbformat": 4,
  "nbformat_minor": 0,
  "metadata": {
    "colab": {
      "provenance": [],
      "authorship_tag": "ABX9TyOiDH0XCzUlIYm0ku0WZ1gs",
      "include_colab_link": true
    },
    "kernelspec": {
      "name": "python3",
      "display_name": "Python 3"
    },
    "language_info": {
      "name": "python"
    }
  },
  "cells": [
    {
      "cell_type": "markdown",
      "metadata": {
        "id": "view-in-github",
        "colab_type": "text"
      },
      "source": [
        "<a href=\"https://colab.research.google.com/github/genie2441/IOT-class/blob/main/tcp_ip.ipynb\" target=\"_parent\"><img src=\"https://colab.research.google.com/assets/colab-badge.svg\" alt=\"Open In Colab\"/></a>"
      ]
    },
    {
      "cell_type": "code",
      "execution_count": 2,
      "metadata": {
        "colab": {
          "base_uri": "https://localhost:8080/"
        },
        "id": "P4aIhmquTiGA",
        "outputId": "c579376b-225f-4271-e576-6ea2c1409736"
      },
      "outputs": [
        {
          "output_type": "stream",
          "name": "stdout",
          "text": [
            "Received HTTP/1.1 200 OK\r\n",
            "Date: Thu, 28 Mar 2024 04:27:10 GMT\r\n",
            "Expires: -1\r\n",
            "Cache-Control: private, max-age=0\r\n",
            "Content-Type: text/html; charset=ISO-8859-1\r\n",
            "Content-Security-Policy-Report-Only: object-src 'none';base-uri 'self';script-src 'nonce-nXJF-EE2exjJAskslPtxnQ' 'strict-dynamic' 'report-sample' 'unsafe-eval' 'unsafe-inline' https: http:;report-uri https://csp.withgoogle.com/csp/gws/other-hp\r\n",
            "P3P: CP=\"This is not a P3P policy! See g.co/p3phelp for more info.\"\r\n",
            "Server: gws\r\n",
            "X-XSS-Protection: 0\r\n",
            "X-Frame-Options: SAMEORIGIN\r\n",
            "Set-Cookie: AEC=Ae3NU9OmO6PfygPZQJa7A0Nwb7mxi0gdnZDhFngkfhP277JmT54HaQYm1Q; expires=Tue, 24-Sep-2024 04:27:10 GMT; path=/; domain=.google.com; Secure; HttpOnly; SameSite=lax\r\n",
            "Set-Cookie: NID=512=CYjs2oRzb_xVfFRHQdu-vOhCCvgq0UUzWd0qrkb-AfllHMQ4Rxm7nGyk47PHXH-l3VjmsvtG6UkpmJFChYKrTrTEFmCi66DaAbSzQt9DXSBguiPtCr3AHZtInION5dkvxe_EWxsjtMsAYMCJG5oL0ND1OHJtGK86YohEDnQ9Gl0; expires=Fri, 27-Sep-2024 04:27:10 GMT; path=/; domain=.google.com; HttpOnly\r\n",
            "Accept-Ranges: none\r\n",
            "Vary: Accept-Encoding\r\n",
            "Transfer-En\n"
          ]
        }
      ],
      "source": [
        "import socket\n",
        "\n",
        "HOST = \"google.com\"\n",
        "PORT = 80\n",
        "\n",
        "with socket.socket(socket.AF_INET, socket.SOCK_STREAM) as s:\n",
        "    s.connect((HOST, PORT))\n",
        "    s.sendall(b\"GET / HTTP/1.2\\n\\n\")\n",
        "    data = s.recv(1024)\n",
        "\n",
        "print(f\"Received {data.decode('utf-8')}\")"
      ]
    }
  ]
}