{
  "nbformat": 4,
  "nbformat_minor": 0,
  "metadata": {
    "colab": {
      "provenance": [],
      "authorship_tag": "ABX9TyPcKafBNWEN3ccTFIoz1f8P",
      "include_colab_link": true
    },
    "kernelspec": {
      "name": "python3",
      "display_name": "Python 3"
    },
    "language_info": {
      "name": "python"
    }
  },
  "cells": [
    {
      "cell_type": "markdown",
      "metadata": {
        "id": "view-in-github",
        "colab_type": "text"
      },
      "source": [
        "<a href=\"https://colab.research.google.com/github/genie2441/IOT-class/blob/main/sensor_thingspeak.ipynb\" target=\"_parent\"><img src=\"https://colab.research.google.com/assets/colab-badge.svg\" alt=\"Open In Colab\"/></a>"
      ]
    },
    {
      "cell_type": "code",
      "execution_count": 1,
      "metadata": {
        "colab": {
          "base_uri": "https://localhost:8080/"
        },
        "id": "yvKUHzOxKbQo",
        "outputId": "7e054368-a3cf-466c-a1dc-b4b2990c8aba"
      },
      "outputs": [
        {
          "output_type": "stream",
          "name": "stdout",
          "text": [
            "Collecting paho-mqtt\n",
            "  Downloading paho_mqtt-2.0.0-py3-none-any.whl (66 kB)\n",
            "\u001b[2K     \u001b[90m━━━━━━━━━━━━━━━━━━━━━━━━━━━━━━━━━━━━━━━━\u001b[0m \u001b[32m66.9/66.9 kB\u001b[0m \u001b[31m1.1 MB/s\u001b[0m eta \u001b[36m0:00:00\u001b[0m\n",
            "\u001b[?25hInstalling collected packages: paho-mqtt\n",
            "Successfully installed paho-mqtt-2.0.0\n"
          ]
        }
      ],
      "source": [
        "!pip install paho-mqtt"
      ]
    },
    {
      "cell_type": "code",
      "source": [
        "import json\n",
        "import requests\n",
        "n=0\n",
        "\n",
        "def doit(topic, payload):\n",
        "  global n\n",
        "  print(topic, payload)\n",
        "  j=json.loads(payload)\n",
        "  #print(j['co2'])\n",
        "  #url='https://api.thingspeak.com/update?api_key=MBXHFKNOS3NTXOGA'\n",
        "  url='https://api.thingspeak.com/update?api_key=여기에_여러분_개인의_APK넣어야_합니다'\n",
        "  url +='&field1='+j['co2']\n",
        "  url +='&field2='+j['bme680'].split(',')[0]\n",
        "  if n>15:\n",
        "    r=requests.get(url)\n",
        "    print(url, r.text)\n",
        "    n=0\n",
        "  n+=1"
      ],
      "metadata": {
        "id": "IfjyciRvKi4F"
      },
      "execution_count": 2,
      "outputs": []
    },
    {
      "cell_type": "code",
      "source": [
        "import paho.mqtt.client as mqtt\n",
        "\n",
        "def on_connect(client, userdata, flags, reason_code, properties):\n",
        "    print(f\"Connected with result code {reason_code}\")\n",
        "    client.subscribe(\"connectware/indoor/data/1501\")\n",
        "\n",
        "def on_message(client, userdata, msg):\n",
        "    doit(msg.topic, msg.payload.decode('utf8'))\n",
        "\n",
        "client = mqtt.Client(mqtt.CallbackAPIVersion.VERSION2)\n",
        "client.on_connect = on_connect\n",
        "client.on_message = on_message\n",
        "\n",
        "client.connect(\"damoa.io\", 1883, 60)\n",
        "client.loop_forever()"
      ],
      "metadata": {
        "colab": {
          "base_uri": "https://localhost:8080/"
        },
        "id": "NQVOaPJsKlJU",
        "outputId": "b20dca65-5133-4f5b-c744-4243331d2232"
      },
      "execution_count": null,
      "outputs": [
        {
          "output_type": "stream",
          "name": "stdout",
          "text": [
            "Connected with result code Success\n",
            "connectware/indoor/data/1501 {\"dust\":\"10,10\",\"co2\":\"536\",\"bme680\":\"29.02,25.54,925671,101057,22.25\",\"time\":\"2024-04-05 11:51:00\", \"serial\":73516, \"ip\":\"203.255.190.49\"}\n",
            "connectware/indoor/data/1501 {\"dust\":\"11,11\",\"co2\":\"536\",\"bme680\":\"29.02,25.55,920602,101057,22.34\",\"time\":\"2024-04-05 11:51:01\", \"serial\":73517, \"ip\":\"203.255.190.49\"}\n",
            "connectware/indoor/data/1501 {\"dust\":\"11,11\",\"co2\":\"536\",\"bme680\":\"29.02,25.56,919972,101056,22.42\",\"time\":\"2024-04-05 11:51:02\", \"serial\":73518, \"ip\":\"203.255.190.49\"}\n",
            "connectware/indoor/data/1501 {\"dust\":\"11,11\",\"co2\":\"535\",\"bme680\":\"29.02,25.55,923129,101056,22.42\",\"time\":\"2024-04-05 11:51:03\", \"serial\":73519, \"ip\":\"203.255.190.49\"}\n",
            "connectware/indoor/data/1501 {\"dust\":\"11,11\",\"co2\":\"535\",\"bme680\":\"29.02,25.57,924398,101055,22.42\",\"time\":\"2024-04-05 11:51:04\", \"serial\":73520, \"ip\":\"203.255.190.49\"}\n",
            "connectware/indoor/data/1501 {\"dust\":\"11,12\",\"co2\":\"535\",\"bme680\":\"29.02,25.57,923763,101056,22.42\",\"time\":\"2024-04-05 11:51:05\", \"serial\":73521, \"ip\":\"203.255.190.49\"}\n",
            "connectware/indoor/data/1501 {\"dust\":\"11,12\",\"co2\":\"535\",\"bme680\":\"29.02,25.58,920602,101056,22.42\",\"time\":\"2024-04-05 11:51:06\", \"serial\":73522, \"ip\":\"203.255.190.49\"}\n",
            "connectware/indoor/data/1501 {\"dust\":\"12,12\",\"co2\":\"535\",\"bme680\":\"29.01,25.58,922496,101056,22.50\",\"time\":\"2024-04-05 11:51:07\", \"serial\":73523, \"ip\":\"203.255.190.49\"}\n",
            "connectware/indoor/data/1501 {\"dust\":\"11,12\",\"co2\":\"532\",\"bme680\":\"29.02,25.60,923129,101056,22.42\",\"time\":\"2024-04-05 11:51:08\", \"serial\":73524, \"ip\":\"203.255.190.49\"}\n",
            "connectware/indoor/data/1501 {\"dust\":\"11,12\",\"co2\":\"532\",\"bme680\":\"29.02,25.61,922496,101056,22.42\",\"time\":\"2024-04-05 11:51:09\", \"serial\":73525, \"ip\":\"203.255.190.49\"}\n",
            "connectware/indoor/data/1501 {\"dust\":\"12,12\",\"co2\":\"532\",\"bme680\":\"29.01,25.60,925034,101056,22.50\",\"time\":\"2024-04-05 11:51:10\", \"serial\":73526, \"ip\":\"203.255.190.49\"}\n",
            "connectware/indoor/data/1501 {\"dust\":\"12,12\",\"co2\":\"532\",\"bme680\":\"29.01,25.60,926946,101055,22.50\",\"time\":\"2024-04-05 11:51:11\", \"serial\":73527, \"ip\":\"203.255.190.49\"}\n",
            "connectware/indoor/data/1501 {\"dust\":\"14,16\",\"co2\":\"532\",\"bme680\":\"29.01,25.61,922496,101056,22.34\",\"time\":\"2024-04-05 11:51:12\", \"serial\":73528, \"ip\":\"203.255.190.49\"}\n",
            "connectware/indoor/data/1501 {\"dust\":\"15,17\",\"co2\":\"530\",\"bme680\":\"29.01,25.61,925034,101057,22.34\",\"time\":\"2024-04-05 11:51:13\", \"serial\":73529, \"ip\":\"203.255.190.49\"}\n",
            "connectware/indoor/data/1501 {\"dust\":\"17,18\",\"co2\":\"530\",\"bme680\":\"29.01,25.62,923129,101057,22.34\",\"time\":\"2024-04-05 11:51:14\", \"serial\":73530, \"ip\":\"203.255.190.49\"}\n",
            "connectware/indoor/data/1501 {\"dust\":\"16,18\",\"co2\":\"530\",\"bme680\":\"29.01,25.62,924398,101056,22.34\",\"time\":\"2024-04-05 11:51:15\", \"serial\":73531, \"ip\":\"203.255.190.49\"}\n",
            "connectware/indoor/data/1501 {\"dust\":\"16,18\",\"co2\":\"530\",\"bme680\":\"29.01,25.62,926308,101056,22.34\",\"time\":\"2024-04-05 11:51:16\", \"serial\":73532, \"ip\":\"203.255.190.49\"}\n",
            "https://api.thingspeak.com/update?api_key=여기에_여러분_개인의_APK넣어야_합니다&field1=530&field2=29.01 0\n",
            "connectware/indoor/data/1501 {\"dust\":\"15,17\",\"co2\":\"530\",\"bme680\":\"29.01,25.62,923763,101057,22.34\",\"time\":\"2024-04-05 11:51:17\", \"serial\":73533, \"ip\":\"203.255.190.49\"}\n",
            "connectware/indoor/data/1501 {\"dust\":\"15,18\",\"co2\":\"529\",\"bme680\":\"29.01,25.62,927586,101057,22.34\",\"time\":\"2024-04-05 11:51:18\", \"serial\":73534, \"ip\":\"203.255.190.49\"}\n",
            "connectware/indoor/data/1501 {\"dust\":\"16,19\",\"co2\":\"529\",\"bme680\":\"29.01,25.62,921232,101057,22.42\",\"time\":\"2024-04-05 11:51:19\", \"serial\":73535, \"ip\":\"203.255.190.49\"}\n",
            "connectware/indoor/data/1501 {\"dust\":\"17,19\",\"co2\":\"529\",\"bme680\":\"29.01,25.63,921864,101056,22.34\",\"time\":\"2024-04-05 11:51:20\", \"serial\":73536, \"ip\":\"203.255.190.49\"}\n",
            "connectware/indoor/data/1501 {\"dust\":\"14,16\",\"co2\":\"529\",\"bme680\":\"29.01,25.61,925671,101057,22.34\",\"time\":\"2024-04-05 11:51:21\", \"serial\":73537, \"ip\":\"203.255.190.49\"}\n",
            "connectware/indoor/data/1501 {\"dust\":\"13,14\",\"co2\":\"529\",\"bme680\":\"29.01,25.62,929509,101057,22.34\",\"time\":\"2024-04-05 11:51:22\", \"serial\":73538, \"ip\":\"203.255.190.49\"}\n",
            "connectware/indoor/data/1501 {\"dust\":\"13,14\",\"co2\":\"530\",\"bme680\":\"29.01,25.62,924398,101056,22.42\",\"time\":\"2024-04-05 11:51:23\", \"serial\":73539, \"ip\":\"203.255.190.49\"}\n",
            "connectware/indoor/data/1501 {\"dust\":\"12,13\",\"co2\":\"530\",\"bme680\":\"29.01,25.62,925034,101055,22.42\",\"time\":\"2024-04-05 11:51:24\", \"serial\":73540, \"ip\":\"203.255.190.49\"}\n",
            "connectware/indoor/data/1501 {\"dust\":\"12,13\",\"co2\":\"530\",\"bme680\":\"29.01,25.64,923763,101056,22.42\",\"time\":\"2024-04-05 11:51:25\", \"serial\":73541, \"ip\":\"203.255.190.49\"}\n",
            "connectware/indoor/data/1501 {\"dust\":\"11,12\",\"co2\":\"530\",\"bme680\":\"29.01,25.65,923129,101056,22.42\",\"time\":\"2024-04-05 11:51:26\", \"serial\":73542, \"ip\":\"203.255.190.49\"}\n",
            "connectware/indoor/data/1501 {\"dust\":\"11,12\",\"co2\":\"530\",\"bme680\":\"29.01,25.63,928226,101057,22.34\",\"time\":\"2024-04-05 11:51:27\", \"serial\":73543, \"ip\":\"203.255.190.49\"}\n",
            "connectware/indoor/data/1501 {\"dust\":\"12,13\",\"co2\":\"531\",\"bme680\":\"29.01,25.64,922496,101056,22.42\",\"time\":\"2024-04-05 11:51:28\", \"serial\":73544, \"ip\":\"203.255.190.49\"}\n",
            "connectware/indoor/data/1501 {\"dust\":\"11,13\",\"co2\":\"531\",\"bme680\":\"29.01,25.64,926308,101056,22.42\",\"time\":\"2024-04-05 11:51:29\", \"serial\":73545, \"ip\":\"203.255.190.49\"}\n",
            "connectware/indoor/data/1501 {\"dust\":\"11,13\",\"co2\":\"531\",\"bme680\":\"29.01,25.64,923129,101056,22.42\",\"time\":\"2024-04-05 11:51:30\", \"serial\":73546, \"ip\":\"203.255.190.49\"}\n",
            "connectware/indoor/data/1501 {\"dust\":\"11,11\",\"co2\":\"531\",\"bme680\":\"29.01,25.66,921864,101057,22.42\",\"time\":\"2024-04-05 11:51:31\", \"serial\":73547, \"ip\":\"203.255.190.49\"}\n",
            "connectware/indoor/data/1501 {\"dust\":\"11,11\",\"co2\":\"531\",\"bme680\":\"29.01,25.65,919972,101056,22.42\",\"time\":\"2024-04-05 11:51:32\", \"serial\":73548, \"ip\":\"203.255.190.49\"}\n",
            "https://api.thingspeak.com/update?api_key=여기에_여러분_개인의_APK넣어야_합니다&field1=531&field2=29.01 0\n",
            "connectware/indoor/data/1501 {\"dust\":\"10,12\",\"co2\":\"532\",\"bme680\":\"29.01,25.65,922496,101056,22.50\",\"time\":\"2024-04-05 11:51:33\", \"serial\":73549, \"ip\":\"203.255.190.49\"}\n",
            "connectware/indoor/data/1501 {\"dust\":\"10,12\",\"co2\":\"532\",\"bme680\":\"29.01,25.64,923129,101055,22.42\",\"time\":\"2024-04-05 11:51:34\", \"serial\":73550, \"ip\":\"203.255.190.49\"}\n",
            "connectware/indoor/data/1501 {\"dust\":\"10,12\",\"co2\":\"532\",\"bme680\":\"29.01,25.64,926946,101056,22.42\",\"time\":\"2024-04-05 11:51:35\", \"serial\":73551, \"ip\":\"203.255.190.49\"}\n",
            "connectware/indoor/data/1501 {\"dust\":\"9,11\",\"co2\":\"532\",\"bme680\":\"29.01,25.65,923763,101056,22.42\",\"time\":\"2024-04-05 11:51:36\", \"serial\":73552, \"ip\":\"203.255.190.49\"}\n",
            "connectware/indoor/data/1501 {\"dust\":\"9,11\",\"co2\":\"532\",\"bme680\":\"29.01,25.63,921864,101056,22.42\",\"time\":\"2024-04-05 11:51:37\", \"serial\":73553, \"ip\":\"203.255.190.49\"}\n",
            "connectware/indoor/data/1501 {\"dust\":\"10,11\",\"co2\":\"532\",\"bme680\":\"29.01,25.64,924398,101055,22.42\",\"time\":\"2024-04-05 11:51:38\", \"serial\":73554, \"ip\":\"203.255.190.49\"}\n",
            "connectware/indoor/data/1501 {\"dust\":\"10,11\",\"co2\":\"532\",\"bme680\":\"29.01,25.64,920602,101055,22.42\",\"time\":\"2024-04-05 11:51:39\", \"serial\":73555, \"ip\":\"203.255.190.49\"}\n",
            "connectware/indoor/data/1501 {\"dust\":\"9,11\",\"co2\":\"532\",\"bme680\":\"29.01,25.63,923129,101056,22.42\",\"time\":\"2024-04-05 11:51:40\", \"serial\":73556, \"ip\":\"203.255.190.49\"}\n",
            "connectware/indoor/data/1501 {\"dust\":\"10,12\",\"co2\":\"532\",\"bme680\":\"29.01,25.63,925034,101055,22.42\",\"time\":\"2024-04-05 11:51:41\", \"serial\":73557, \"ip\":\"203.255.190.49\"}\n",
            "connectware/indoor/data/1501 {\"dust\":\"10,12\",\"co2\":\"532\",\"bme680\":\"29.01,25.63,918088,101056,22.50\",\"time\":\"2024-04-05 11:51:42\", \"serial\":73558, \"ip\":\"203.255.190.49\"}\n",
            "connectware/indoor/data/1501 {\"dust\":\"11,12\",\"co2\":\"532\",\"bme680\":\"29.01,25.63,925671,101055,22.50\",\"time\":\"2024-04-05 11:51:43\", \"serial\":73559, \"ip\":\"203.255.190.49\"}\n",
            "connectware/indoor/data/1501 {\"dust\":\"11,12\",\"co2\":\"532\",\"bme680\":\"29.01,25.63,927586,101055,22.42\",\"time\":\"2024-04-05 11:51:44\", \"serial\":73560, \"ip\":\"203.255.190.49\"}\n",
            "connectware/indoor/data/1501 {\"dust\":\"10,11\",\"co2\":\"532\",\"bme680\":\"29.01,25.63,921232,101056,22.42\",\"time\":\"2024-04-05 11:51:45\", \"serial\":73561, \"ip\":\"203.255.190.49\"}\n",
            "connectware/indoor/data/1501 {\"dust\":\"10,11\",\"co2\":\"532\",\"bme680\":\"29.01,25.63,918715,101056,22.42\",\"time\":\"2024-04-05 11:51:46\", \"serial\":73562, \"ip\":\"203.255.190.49\"}\n",
            "connectware/indoor/data/1501 {\"dust\":\"10,11\",\"co2\":\"532\",\"bme680\":\"29.01,25.62,921864,101056,22.34\",\"time\":\"2024-04-05 11:51:47\", \"serial\":73563, \"ip\":\"203.255.190.49\"}\n",
            "connectware/indoor/data/1501 {\"dust\":\"11,12\",\"co2\":\"532\",\"bme680\":\"29.01,25.63,925034,101056,22.42\",\"time\":\"2024-04-05 11:51:48\", \"serial\":73564, \"ip\":\"203.255.190.49\"}\n",
            "https://api.thingspeak.com/update?api_key=여기에_여러분_개인의_APK넣어야_합니다&field1=532&field2=29.01 0\n",
            "connectware/indoor/data/1501 {\"dust\":\"11,12\",\"co2\":\"532\",\"bme680\":\"29.00,25.63,921864,101056,22.42\",\"time\":\"2024-04-05 11:51:49\", \"serial\":73565, \"ip\":\"203.255.190.49\"}\n",
            "connectware/indoor/data/1501 {\"dust\":\"10,10\",\"co2\":\"532\",\"bme680\":\"29.01,25.63,923763,101055,22.42\",\"time\":\"2024-04-05 11:51:50\", \"serial\":73566, \"ip\":\"203.255.190.49\"}\n",
            "connectware/indoor/data/1501 {\"dust\":\"10,10\",\"co2\":\"532\",\"bme680\":\"29.01,25.62,925034,101055,22.42\",\"time\":\"2024-04-05 11:51:51\", \"serial\":73567, \"ip\":\"203.255.190.49\"}\n",
            "connectware/indoor/data/1501 {\"dust\":\"11,11\",\"co2\":\"532\",\"bme680\":\"29.01,25.63,922496,101056,22.34\",\"time\":\"2024-04-05 11:51:52\", \"serial\":73568, \"ip\":\"203.255.190.49\"}\n",
            "connectware/indoor/data/1501 {\"dust\":\"11,11\",\"co2\":\"533\",\"bme680\":\"29.01,25.64,922496,101057,22.42\",\"time\":\"2024-04-05 11:51:53\", \"serial\":73569, \"ip\":\"203.255.190.49\"}\n",
            "connectware/indoor/data/1501 {\"dust\":\"12,12\",\"co2\":\"533\",\"bme680\":\"29.01,25.64,927586,101057,22.42\",\"time\":\"2024-04-05 11:51:54\", \"serial\":73570, \"ip\":\"203.255.190.49\"}\n",
            "connectware/indoor/data/1501 {\"dust\":\"12,12\",\"co2\":\"533\",\"bme680\":\"29.01,25.64,927586,101056,22.50\",\"time\":\"2024-04-05 11:51:55\", \"serial\":73571, \"ip\":\"203.255.190.49\"}\n",
            "connectware/indoor/data/1501 {\"dust\":\"12,12\",\"co2\":\"533\",\"bme680\":\"29.01,25.64,925671,101055,22.50\",\"time\":\"2024-04-05 11:51:56\", \"serial\":73572, \"ip\":\"203.255.190.49\"}\n",
            "connectware/indoor/data/1501 {\"dust\":\"12,12\",\"co2\":\"533\",\"bme680\":\"29.01,25.63,922496,101055,22.42\",\"time\":\"2024-04-05 11:51:57\", \"serial\":73573, \"ip\":\"203.255.190.49\"}\n",
            "connectware/indoor/data/1501 {\"dust\":\"12,12\",\"co2\":\"533\",\"bme680\":\"29.00,25.64,921232,101056,22.42\",\"time\":\"2024-04-05 11:51:58\", \"serial\":73574, \"ip\":\"203.255.190.49\"}\n"
          ]
        }
      ]
    }
  ]
}