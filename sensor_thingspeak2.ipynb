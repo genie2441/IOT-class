{
  "nbformat": 4,
  "nbformat_minor": 0,
  "metadata": {
    "colab": {
      "provenance": [],
      "authorship_tag": "ABX9TyNbac16e/r6pu4VRtfl6LFa",
      "include_colab_link": true
    },
    "kernelspec": {
      "name": "python3",
      "display_name": "Python 3"
    },
    "language_info": {
      "name": "python"
    }
  },
  "cells": [
    {
      "cell_type": "markdown",
      "metadata": {
        "id": "view-in-github",
        "colab_type": "text"
      },
      "source": [
        "<a href=\"https://colab.research.google.com/github/genie2441/IOT-class/blob/main/sensor_thingspeak2.ipynb\" target=\"_parent\"><img src=\"https://colab.research.google.com/assets/colab-badge.svg\" alt=\"Open In Colab\"/></a>"
      ]
    },
    {
      "cell_type": "code",
      "source": [
        "\n",
        "!pip install paho-mqtt"
      ],
      "metadata": {
        "colab": {
          "base_uri": "https://localhost:8080/"
        },
        "id": "oI2Xe5aZyq6r",
        "outputId": "392249bf-e6de-4f7a-9a4f-720107d1752d"
      },
      "execution_count": 8,
      "outputs": [
        {
          "output_type": "stream",
          "name": "stdout",
          "text": [
            "Collecting paho-mqtt\n",
            "  Downloading paho_mqtt-2.0.0-py3-none-any.whl (66 kB)\n",
            "\u001b[?25l     \u001b[90m━━━━━━━━━━━━━━━━━━━━━━━━━━━━━━━━━━━━━━━━\u001b[0m \u001b[32m0.0/66.9 kB\u001b[0m \u001b[31m?\u001b[0m eta \u001b[36m-:--:--\u001b[0m\r\u001b[2K     \u001b[91m━━━━━━━━━━━━━━━━━━━━━━━━\u001b[0m\u001b[90m╺\u001b[0m\u001b[90m━━━━━━━━━━━━━━━\u001b[0m \u001b[32m41.0/66.9 kB\u001b[0m \u001b[31m1.0 MB/s\u001b[0m eta \u001b[36m0:00:01\u001b[0m\r\u001b[2K     \u001b[90m━━━━━━━━━━━━━━━━━━━━━━━━━━━━━━━━━━━━━━━━\u001b[0m \u001b[32m66.9/66.9 kB\u001b[0m \u001b[31m1.2 MB/s\u001b[0m eta \u001b[36m0:00:00\u001b[0m\n",
            "\u001b[?25hInstalling collected packages: paho-mqtt\n",
            "Successfully installed paho-mqtt-2.0.0\n"
          ]
        }
      ]
    },
    {
      "cell_type": "code",
      "execution_count": 5,
      "metadata": {
        "id": "Nf3mSzp-NOk2"
      },
      "outputs": [],
      "source": [
        "import json\n",
        "import requests\n",
        "n=0\n",
        "\n",
        "def doit(topic, payload):\n",
        "  global n\n",
        "  print(topic, payload)\n",
        "  j=json.loads(payload)\n",
        "  #print(j['co2'])\n",
        "  #url='https://api.thingspeak.com/update?api_key=MBXHFKNOS3NTXOGA'\n",
        "  url='https://api.thingspeak.com/update?api_key=U5SKFTTF5AMY7AEV'\n",
        "  url +='&field1='+j['co2']\n",
        "  url +='&field2='+j['bme680'].split(',')[0]\n",
        "  if n>15:\n",
        "    r=requests.get(url)\n",
        "    print(url, r.text)\n",
        "    n=0\n",
        "  n+=1"
      ]
    },
    {
      "cell_type": "code",
      "source": [
        "import paho.mqtt.client as mqtt\n",
        "\n",
        "def on_connect(client, userdata, flags, reason_code, properties):\n",
        "    print(f\"Connected with result code {reason_code}\")\n",
        "    client.subscribe(\"connectware/indoor/data/1501\")\n",
        "\n",
        "def on_message(client, userdata, msg):\n",
        "    doit(msg.topic, msg.payload.decode('utf8'))\n",
        "\n",
        "client = mqtt.Client(mqtt.CallbackAPIVersion.VERSION2)\n",
        "client.on_connect = on_connect\n",
        "client.on_message = on_message\n",
        "\n",
        "client.connect(\"damoa.io\", 1883, 60)\n",
        "client.loop_forever()"
      ],
      "metadata": {
        "colab": {
          "base_uri": "https://localhost:8080/"
        },
        "id": "g2arhk9Mxzbf",
        "outputId": "8e3f2af4-b6a4-4062-fb55-9433ba185091"
      },
      "execution_count": null,
      "outputs": [
        {
          "output_type": "stream",
          "name": "stdout",
          "text": [
            "Connected with result code Success\n",
            "connectware/indoor/data/1501 {\"dust\":\"26,29\",\"co2\":\"437\",\"bme680\":\"28.82,27.86,972523,100914,34.27\",\"time\":\"2024-04-05 14:46:34\", \"serial\":84050, \"ip\":\"203.255.190.49\"}\n",
            "connectware/indoor/data/1501 {\"dust\":\"25,29\",\"co2\":\"437\",\"bme680\":\"28.81,27.86,971820,100913,34.27\",\"time\":\"2024-04-05 14:46:35\", \"serial\":84051, \"ip\":\"203.255.190.49\"}\n",
            "connectware/indoor/data/1501 {\"dust\":\"27,31\",\"co2\":\"437\",\"bme680\":\"28.82,27.85,971820,100913,34.36\",\"time\":\"2024-04-05 14:46:36\", \"serial\":84052, \"ip\":\"203.255.190.49\"}\n",
            "connectware/indoor/data/1501 {\"dust\":\"27,30\",\"co2\":\"437\",\"bme680\":\"28.81,27.85,969020,100913,34.36\",\"time\":\"2024-04-05 14:46:37\", \"serial\":84053, \"ip\":\"203.255.190.49\"}\n",
            "connectware/indoor/data/1501 {\"dust\":\"28,32\",\"co2\":\"437\",\"bme680\":\"28.81,27.86,969020,100912,34.36\",\"time\":\"2024-04-05 14:46:38\", \"serial\":84054, \"ip\":\"203.255.190.49\"}\n",
            "connectware/indoor/data/1501 {\"dust\":\"27,31\",\"co2\":\"437\",\"bme680\":\"28.81,27.87,967625,100912,34.36\",\"time\":\"2024-04-05 14:46:39\", \"serial\":84055, \"ip\":\"203.255.190.49\"}\n",
            "connectware/indoor/data/1501 {\"dust\":\"27,31\",\"co2\":\"437\",\"bme680\":\"28.81,27.87,971820,100913,34.36\",\"time\":\"2024-04-05 14:46:40\", \"serial\":84056, \"ip\":\"203.255.190.49\"}\n",
            "connectware/indoor/data/1501 {\"dust\":\"27,31\",\"co2\":\"436\",\"bme680\":\"28.81,27.87,972523,100913,34.36\",\"time\":\"2024-04-05 14:46:41\", \"serial\":84057, \"ip\":\"203.255.190.49\"}\n",
            "connectware/indoor/data/1501 {\"dust\":\"25,28\",\"co2\":\"436\",\"bme680\":\"28.81,27.87,970418,100912,34.44\",\"time\":\"2024-04-05 14:46:42\", \"serial\":84058, \"ip\":\"203.255.190.49\"}\n",
            "connectware/indoor/data/1501 {\"dust\":\"27,29\",\"co2\":\"436\",\"bme680\":\"28.81,27.88,976052,100913,34.44\",\"time\":\"2024-04-05 14:46:43\", \"serial\":84059, \"ip\":\"203.255.190.49\"}\n",
            "connectware/indoor/data/1501 {\"dust\":\"27,29\",\"co2\":\"436\",\"bme680\":\"28.81,27.87,974637,100913,34.36\",\"time\":\"2024-04-05 14:46:44\", \"serial\":84060, \"ip\":\"203.255.190.49\"}\n",
            "connectware/indoor/data/1501 {\"dust\":\"27,29\",\"co2\":\"436\",\"bme680\":\"28.81,27.87,967625,100913,34.44\",\"time\":\"2024-04-05 14:46:45\", \"serial\":84061, \"ip\":\"203.255.190.49\"}\n",
            "connectware/indoor/data/1501 {\"dust\":\"28,29\",\"co2\":\"433\",\"bme680\":\"28.81,27.88,970418,100912,34.36\",\"time\":\"2024-04-05 14:46:46\", \"serial\":84062, \"ip\":\"203.255.190.49\"}\n",
            "connectware/indoor/data/1501 {\"dust\":\"29,30\",\"co2\":\"433\",\"bme680\":\"28.81,27.89,969020,100913,34.36\",\"time\":\"2024-04-05 14:46:47\", \"serial\":84063, \"ip\":\"203.255.190.49\"}\n",
            "connectware/indoor/data/1501 {\"dust\":\"28,29\",\"co2\":\"433\",\"bme680\":\"28.81,27.87,973227,100914,34.36\",\"time\":\"2024-04-05 14:46:48\", \"serial\":84064, \"ip\":\"203.255.190.49\"}\n",
            "connectware/indoor/data/1501 {\"dust\":\"29,31\",\"co2\":\"433\",\"bme680\":\"28.81,27.89,976052,100913,34.36\",\"time\":\"2024-04-05 14:46:49\", \"serial\":84065, \"ip\":\"203.255.190.49\"}\n",
            "connectware/indoor/data/1501 {\"dust\":\"29,30\",\"co2\":\"433\",\"bme680\":\"28.81,27.88,966930,100913,34.27\",\"time\":\"2024-04-05 14:46:50\", \"serial\":84066, \"ip\":\"203.255.190.49\"}\n",
            "https://api.thingspeak.com/update?api_key=U5SKFTTF5AMY7AEV&field1=433&field2=28.81 202\n",
            "connectware/indoor/data/1501 {\"dust\":\"30,31\",\"co2\":\"430\",\"bme680\":\"28.81,27.89,962777,100913,34.36\",\"time\":\"2024-04-05 14:46:51\", \"serial\":84067, \"ip\":\"203.255.190.49\"}\n",
            "connectware/indoor/data/1501 {\"dust\":\"30,30\",\"co2\":\"430\",\"bme680\":\"28.81,27.88,971119,100913,34.36\",\"time\":\"2024-04-05 14:46:52\", \"serial\":84068, \"ip\":\"203.255.190.49\"}\n",
            "connectware/indoor/data/1501 {\"dust\":\"29,30\",\"co2\":\"430\",\"bme680\":\"28.81,27.89,974637,100913,34.44\",\"time\":\"2024-04-05 14:46:53\", \"serial\":84069, \"ip\":\"203.255.190.49\"}\n",
            "connectware/indoor/data/1501 {\"dust\":\"29,31\",\"co2\":\"430\",\"bme680\":\"28.81,27.89,969718,100912,34.44\",\"time\":\"2024-04-05 14:46:54\", \"serial\":84070, \"ip\":\"203.255.190.49\"}\n",
            "connectware/indoor/data/1501 {\"dust\":\"29,31\",\"co2\":\"430\",\"bme680\":\"28.81,27.89,971119,100913,34.44\",\"time\":\"2024-04-05 14:46:55\", \"serial\":84071, \"ip\":\"203.255.190.49\"}\n",
            "connectware/indoor/data/1501 {\"dust\":\"28,31\",\"co2\":\"427\",\"bme680\":\"28.81,27.90,971119,100911,34.53\",\"time\":\"2024-04-05 14:46:56\", \"serial\":84072, \"ip\":\"203.255.190.49\"}\n",
            "connectware/indoor/data/1501 {\"dust\":\"28,31\",\"co2\":\"427\",\"bme680\":\"28.81,27.89,971119,100911,34.44\",\"time\":\"2024-04-05 14:46:57\", \"serial\":84073, \"ip\":\"203.255.190.49\"}\n",
            "connectware/indoor/data/1501 {\"dust\":\"28,31\",\"co2\":\"427\",\"bme680\":\"28.81,27.89,962777,100912,34.44\",\"time\":\"2024-04-05 14:46:58\", \"serial\":84074, \"ip\":\"203.255.190.49\"}\n",
            "connectware/indoor/data/1501 {\"dust\":\"28,31\",\"co2\":\"427\",\"bme680\":\"28.81,27.90,974637,100911,34.53\",\"time\":\"2024-04-05 14:46:59\", \"serial\":84075, \"ip\":\"203.255.190.49\"}\n",
            "connectware/indoor/data/1501 {\"dust\":\"28,31\",\"co2\":\"427\",\"bme680\":\"28.81,27.88,971820,100910,34.61\",\"time\":\"2024-04-05 14:47:00\", \"serial\":84076, \"ip\":\"203.255.190.49\"}\n",
            "connectware/indoor/data/1501 {\"dust\":\"28,29\",\"co2\":\"424\",\"bme680\":\"28.81,27.90,971119,100910,34.61\",\"time\":\"2024-04-05 14:47:01\", \"serial\":84077, \"ip\":\"203.255.190.49\"}\n",
            "connectware/indoor/data/1501 {\"dust\":\"28,29\",\"co2\":\"424\",\"bme680\":\"28.81,27.90,976052,100910,34.61\",\"time\":\"2024-04-05 14:47:02\", \"serial\":84078, \"ip\":\"203.255.190.49\"}\n",
            "connectware/indoor/data/1501 {\"dust\":\"28,30\",\"co2\":\"424\",\"bme680\":\"28.81,27.90,971119,100910,34.61\",\"time\":\"2024-04-05 14:47:03\", \"serial\":84079, \"ip\":\"203.255.190.49\"}\n",
            "connectware/indoor/data/1501 {\"dust\":\"30,32\",\"co2\":\"424\",\"bme680\":\"28.81,27.90,970418,100909,34.69\",\"time\":\"2024-04-05 14:47:04\", \"serial\":84080, \"ip\":\"203.255.190.49\"}\n",
            "connectware/indoor/data/1501 {\"dust\":\"30,32\",\"co2\":\"424\",\"bme680\":\"28.80,27.90,969718,100909,34.61\",\"time\":\"2024-04-05 14:47:05\", \"serial\":84081, \"ip\":\"203.255.190.49\"}\n",
            "connectware/indoor/data/1501 {\"dust\":\"28,30\",\"co2\":\"422\",\"bme680\":\"28.80,27.90,969718,100910,34.69\",\"time\":\"2024-04-05 14:47:06\", \"serial\":84082, \"ip\":\"203.255.190.49\"}\n",
            "https://api.thingspeak.com/update?api_key=U5SKFTTF5AMY7AEV&field1=422&field2=28.80 203\n",
            "connectware/indoor/data/1501 {\"dust\":\"28,30\",\"co2\":\"422\",\"bme680\":\"28.80,27.91,975344,100909,34.61\",\"time\":\"2024-04-05 14:47:07\", \"serial\":84083, \"ip\":\"203.255.190.49\"}\n",
            "connectware/indoor/data/1501 {\"dust\":\"28,30\",\"co2\":\"422\",\"bme680\":\"28.80,27.91,972523,100909,34.69\",\"time\":\"2024-04-05 14:47:08\", \"serial\":84084, \"ip\":\"203.255.190.49\"}\n",
            "connectware/indoor/data/1501 {\"dust\":\"28,30\",\"co2\":\"422\",\"bme680\":\"28.80,27.90,978181,100908,34.69\",\"time\":\"2024-04-05 14:47:09\", \"serial\":84085, \"ip\":\"203.255.190.49\"}\n",
            "connectware/indoor/data/1501 {\"dust\":\"30,31\",\"co2\":\"422\",\"bme680\":\"28.80,27.91,975344,100907,34.86\",\"time\":\"2024-04-05 14:47:10\", \"serial\":84086, \"ip\":\"203.255.190.49\"}\n",
            "connectware/indoor/data/1501 {\"dust\":\"28,29\",\"co2\":\"420\",\"bme680\":\"28.80,27.90,971119,100907,34.86\",\"time\":\"2024-04-05 14:47:11\", \"serial\":84087, \"ip\":\"203.255.190.49\"}\n",
            "connectware/indoor/data/1501 {\"dust\":\"27,28\",\"co2\":\"420\",\"bme680\":\"28.80,27.91,976052,100906,34.78\",\"time\":\"2024-04-05 14:47:12\", \"serial\":84088, \"ip\":\"203.255.190.49\"}\n",
            "connectware/indoor/data/1501 {\"dust\":\"26,26\",\"co2\":\"420\",\"bme680\":\"28.80,27.91,978893,100908,34.78\",\"time\":\"2024-04-05 14:47:13\", \"serial\":84089, \"ip\":\"203.255.190.49\"}\n",
            "connectware/indoor/data/1501 {\"dust\":\"26,26\",\"co2\":\"420\",\"bme680\":\"28.80,27.92,974637,100908,34.78\",\"time\":\"2024-04-05 14:47:14\", \"serial\":84090, \"ip\":\"203.255.190.49\"}\n",
            "connectware/indoor/data/1501 {\"dust\":\"27,27\",\"co2\":\"420\",\"bme680\":\"28.80,27.92,974637,100909,34.78\",\"time\":\"2024-04-05 14:47:15\", \"serial\":84091, \"ip\":\"203.255.190.49\"}\n",
            "connectware/indoor/data/1501 {\"dust\":\"27,27\",\"co2\":\"419\",\"bme680\":\"28.80,27.92,972523,100908,34.78\",\"time\":\"2024-04-05 14:47:16\", \"serial\":84092, \"ip\":\"203.255.190.49\"}\n",
            "connectware/indoor/data/1501 {\"dust\":\"27,27\",\"co2\":\"419\",\"bme680\":\"28.80,27.90,969718,100908,34.78\",\"time\":\"2024-04-05 14:47:17\", \"serial\":84093, \"ip\":\"203.255.190.49\"}\n"
          ]
        }
      ]
    }
  ]
}