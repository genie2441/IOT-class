{
  "nbformat": 4,
  "nbformat_minor": 0,
  "metadata": {
    "colab": {
      "provenance": [],
      "authorship_tag": "ABX9TyMtvga0EFTVAUpT6Yx6wR21",
      "include_colab_link": true
    },
    "kernelspec": {
      "name": "python3",
      "display_name": "Python 3"
    },
    "language_info": {
      "name": "python"
    }
  },
  "cells": [
    {
      "cell_type": "markdown",
      "metadata": {
        "id": "view-in-github",
        "colab_type": "text"
      },
      "source": [
        "<a href=\"https://colab.research.google.com/github/genie2441/IOT-class/blob/main/bike_stationName.ipynb\" target=\"_parent\"><img src=\"https://colab.research.google.com/assets/colab-badge.svg\" alt=\"Open In Colab\"/></a>"
      ]
    },
    {
      "cell_type": "code",
      "execution_count": 17,
      "metadata": {
        "id": "mWSx9OqmRTvy"
      },
      "outputs": [],
      "source": [
        "a={\"rentBikeStatus\":{\"list_total_count\":5,\"RESULT\":{\"CODE\":\"INFO-000\",\"MESSAGE\":\"정상 처리되었습니다.\"},\"row\":[{\"rackTotCnt\":\"15\",\"stationName\":\"102. 망원역 1번출구 앞\",\"parkingBikeTotCnt\":\"27\",\"shared\":\"180\",\"stationLatitude\":\"37.55564880\",\"stationLongitude\":\"126.91062927\",\"stationId\":\"ST-4\"},{\"rackTotCnt\":\"14\",\"stationName\":\"103. 망원역 2번출구 앞\",\"parkingBikeTotCnt\":\"27\",\"shared\":\"193\",\"stationLatitude\":\"37.55495071\",\"stationLongitude\":\"126.91083527\",\"stationId\":\"ST-5\"},{\"rackTotCnt\":\"13\",\"stationName\":\"104. 합정역 1번출구 앞\",\"parkingBikeTotCnt\":\"15\",\"shared\":\"115\",\"stationLatitude\":\"37.55073929\",\"stationLongitude\":\"126.91508484\",\"stationId\":\"ST-6\"},{\"rackTotCnt\":\"5\",\"stationName\":\"105. 합정역 5번출구 앞\",\"parkingBikeTotCnt\":\"17\",\"shared\":\"340\",\"stationLatitude\":\"37.55000687\",\"stationLongitude\":\"126.91482544\",\"stationId\":\"ST-7\"},{\"rackTotCnt\":\"12\",\"stationName\":\"106. 합정역 7번출구 앞\",\"parkingBikeTotCnt\":\"4\",\"shared\":\"33\",\"stationLatitude\":\"37.54864502\",\"stationLongitude\":\"126.91282654\",\"stationId\":\"ST-8\"}]}}"
      ]
    },
    {
      "cell_type": "code",
      "source": [
        "a['rentBikeStatus']['row'][2]"
      ],
      "metadata": {
        "colab": {
          "base_uri": "https://localhost:8080/"
        },
        "id": "G0QKoBaSRVap",
        "outputId": "ac4e9b1d-c2e0-43a1-8d93-a88dc493b822"
      },
      "execution_count": 18,
      "outputs": [
        {
          "output_type": "execute_result",
          "data": {
            "text/plain": [
              "{'rackTotCnt': '13',\n",
              " 'stationName': '104. 합정역 1번출구 앞',\n",
              " 'parkingBikeTotCnt': '15',\n",
              " 'shared': '115',\n",
              " 'stationLatitude': '37.55073929',\n",
              " 'stationLongitude': '126.91508484',\n",
              " 'stationId': 'ST-6'}"
            ]
          },
          "metadata": {},
          "execution_count": 18
        }
      ]
    },
    {
      "cell_type": "code",
      "source": [
        "for x in a['rentBikeStatus']['row']:\n",
        "  print(x)"
      ],
      "metadata": {
        "colab": {
          "base_uri": "https://localhost:8080/"
        },
        "id": "zjvg3KKYRa_Y",
        "outputId": "b78dd4e9-997a-4e7a-e37f-4dcb6b99d16a"
      },
      "execution_count": 19,
      "outputs": [
        {
          "output_type": "stream",
          "name": "stdout",
          "text": [
            "{'rackTotCnt': '15', 'stationName': '102. 망원역 1번출구 앞', 'parkingBikeTotCnt': '27', 'shared': '180', 'stationLatitude': '37.55564880', 'stationLongitude': '126.91062927', 'stationId': 'ST-4'}\n",
            "{'rackTotCnt': '14', 'stationName': '103. 망원역 2번출구 앞', 'parkingBikeTotCnt': '27', 'shared': '193', 'stationLatitude': '37.55495071', 'stationLongitude': '126.91083527', 'stationId': 'ST-5'}\n",
            "{'rackTotCnt': '13', 'stationName': '104. 합정역 1번출구 앞', 'parkingBikeTotCnt': '15', 'shared': '115', 'stationLatitude': '37.55073929', 'stationLongitude': '126.91508484', 'stationId': 'ST-6'}\n",
            "{'rackTotCnt': '5', 'stationName': '105. 합정역 5번출구 앞', 'parkingBikeTotCnt': '17', 'shared': '340', 'stationLatitude': '37.55000687', 'stationLongitude': '126.91482544', 'stationId': 'ST-7'}\n",
            "{'rackTotCnt': '12', 'stationName': '106. 합정역 7번출구 앞', 'parkingBikeTotCnt': '4', 'shared': '33', 'stationLatitude': '37.54864502', 'stationLongitude': '126.91282654', 'stationId': 'ST-8'}\n"
          ]
        }
      ]
    },
    {
      "cell_type": "code",
      "source": [
        "for x in a['rentBikeStatus']['row']:\n",
        "  print(x['stationName'])"
      ],
      "metadata": {
        "colab": {
          "base_uri": "https://localhost:8080/"
        },
        "id": "e2Ctd7afR9Z4",
        "outputId": "889208ce-80f2-4ca3-948a-045f26a2c44c"
      },
      "execution_count": 20,
      "outputs": [
        {
          "output_type": "stream",
          "name": "stdout",
          "text": [
            "102. 망원역 1번출구 앞\n",
            "103. 망원역 2번출구 앞\n",
            "104. 합정역 1번출구 앞\n",
            "105. 합정역 5번출구 앞\n",
            "106. 합정역 7번출구 앞\n"
          ]
        }
      ]
    },
    {
      "cell_type": "code",
      "source": [
        "for x in a['rentBikeStatus']['row']:\n",
        "  print('대여소이름', ':',x['stationName'])"
      ],
      "metadata": {
        "colab": {
          "base_uri": "https://localhost:8080/"
        },
        "id": "zd0yfgpTSDk4",
        "outputId": "151fcb69-4f64-4971-baee-0680050d80ec"
      },
      "execution_count": 21,
      "outputs": [
        {
          "output_type": "stream",
          "name": "stdout",
          "text": [
            "대여소이름 : 102. 망원역 1번출구 앞\n",
            "대여소이름 : 103. 망원역 2번출구 앞\n",
            "대여소이름 : 104. 합정역 1번출구 앞\n",
            "대여소이름 : 105. 합정역 5번출구 앞\n",
            "대여소이름 : 106. 합정역 7번출구 앞\n"
          ]
        }
      ]
    },
    {
      "cell_type": "code",
      "source": [
        "for x in a['rentBikeStatus']['row']:\n",
        "  print('대여건수', ':',x['shared'], '/', x['stationName'])"
      ],
      "metadata": {
        "id": "eg8jYDrFSKKn",
        "colab": {
          "base_uri": "https://localhost:8080/"
        },
        "outputId": "f435af17-b7da-4100-a60e-2105a854a00d"
      },
      "execution_count": 22,
      "outputs": [
        {
          "output_type": "stream",
          "name": "stdout",
          "text": [
            "대여건수 : 180 / 102. 망원역 1번출구 앞\n",
            "대여건수 : 193 / 103. 망원역 2번출구 앞\n",
            "대여건수 : 115 / 104. 합정역 1번출구 앞\n",
            "대여건수 : 340 / 105. 합정역 5번출구 앞\n",
            "대여건수 : 33 / 106. 합정역 7번출구 앞\n"
          ]
        }
      ]
    },
    {
      "cell_type": "code",
      "source": [],
      "metadata": {
        "id": "v6ysHZKBawD-"
      },
      "execution_count": null,
      "outputs": []
    }
  ]
}