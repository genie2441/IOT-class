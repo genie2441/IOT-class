{
  "nbformat": 4,
  "nbformat_minor": 0,
  "metadata": {
    "colab": {
      "provenance": [],
      "authorship_tag": "ABX9TyMUWMlb77a4Shcf19t16qYW",
      "include_colab_link": true
    },
    "kernelspec": {
      "name": "python3",
      "display_name": "Python 3"
    },
    "language_info": {
      "name": "python"
    }
  },
  "cells": [
    {
      "cell_type": "markdown",
      "metadata": {
        "id": "view-in-github",
        "colab_type": "text"
      },
      "source": [
        "<a href=\"https://colab.research.google.com/github/genie2441/IOT-class/blob/main/bicycle_road.ipynb\" target=\"_parent\"><img src=\"https://colab.research.google.com/assets/colab-badge.svg\" alt=\"Open In Colab\"/></a>"
      ]
    },
    {
      "cell_type": "code",
      "source": [
        "import requests\n",
        "from bs4 import BeautifulSoup"
      ],
      "metadata": {
        "id": "XFrKcLOtg_zy"
      },
      "execution_count": 34,
      "outputs": []
    },
    {
      "cell_type": "code",
      "source": [
        "url=\"https://openapi.gg.go.kr/BicycleRoad\"\n",
        "req=requests.get(url)\n",
        "print(req.text)"
      ],
      "metadata": {
        "colab": {
          "base_uri": "https://localhost:8080/"
        },
        "id": "Ne09-47jxt3c",
        "outputId": "d469328b-cd80-4d87-9fe4-13b62cb7ead1"
      },
      "execution_count": 61,
      "outputs": [
        {
          "output_type": "stream",
          "name": "stdout",
          "text": [
            "<?xml version=\"1.0\" encoding=\"UTF-8\"?>\n",
            "\n",
            "<BicycleRoad>\n",
            "  <head>\n",
            "    <list_total_count>32</list_total_count>\n",
            "    <RESULT>\n",
            "      <CODE>INFO-000</CODE>\n",
            "      <MESSAGE>정상 처리되었습니다.</MESSAGE>\n",
            "    </RESULT>\n",
            "    <api_version>1.0v</api_version>\n",
            "  </head>\n",
            "  <row>\n",
            "    <SUM_YM></SUM_YM>\n",
            "    <SIGUN_NM>경기도</SIGUN_NM>\n",
            "    <SIGUN_CD>41000</SIGUN_CD>\n",
            "    <PRVTUSE_ROAD_ROUTE_CNT>5</PRVTUSE_ROAD_ROUTE_CNT>\n",
            "    <PRVTUSE_ROAD_EXTS>10.2</PRVTUSE_ROAD_EXTS>\n",
            "    <PEDSTCMB_ROAD_ROUTE_CNT>58</PEDSTCMB_ROAD_ROUTE_CNT>\n",
            "    <PEDSTCMB_ROAD_EXTS>75.7</PEDSTCMB_ROAD_EXTS>\n",
            "    <PRVTUSE_CARTRK_ROUTE_CNT>26</PRVTUSE_CARTRK_ROUTE_CNT>\n",
            "    <PRVTUSE_CARTRK_EXTS>75.9</PRVTUSE_CARTRK_EXTS>\n",
            "    <BICYCL_ROAD_ROUTE_CNT>0</BICYCL_ROAD_ROUTE_CNT>\n",
            "    <BICYCL_ROAD_EXTS>0</BICYCL_ROAD_EXTS>\n",
            "    <BICYCL_ROAD_BIZ_EXPN>4380000000</BICYCL_ROAD_BIZ_EXPN>\n",
            "  </row>\n",
            "  <row>\n",
            "    <SUM_YM></SUM_YM>\n",
            "    <SIGUN_NM>수원시</SIGUN_NM>\n",
            "    <SIGUN_CD>41110</SIGUN_CD>\n",
            "    <PRVTUSE_ROAD_ROUTE_CNT>13</PRVTUSE_ROAD_ROUTE_CNT>\n",
            "    <PRVTUSE_ROAD_EXTS>6.31</PRVTUSE_ROAD_EXTS>\n",
            "    <PEDSTCMB_ROAD_ROUTE_CNT>268</PEDSTCMB_ROAD_ROUTE_CNT>\n",
            "    <PEDSTCMB_ROAD_EXTS>319.9</PEDSTCMB_ROAD_EXTS>\n",
            "    <PRVTUSE_CARTRK_ROUTE_CNT>12</PRVTUSE_CARTRK_ROUTE_CNT>\n",
            "    <PRVTUSE_CARTRK_EXTS>19.34</PRVTUSE_CARTRK_EXTS>\n",
            "    <BICYCL_ROAD_ROUTE_CNT>0</BICYCL_ROAD_ROUTE_CNT>\n",
            "    <BICYCL_ROAD_EXTS>0</BICYCL_ROAD_EXTS>\n",
            "    <BICYCL_ROAD_BIZ_EXPN>2400000000</BICYCL_ROAD_BIZ_EXPN>\n",
            "  </row>\n",
            "  <row>\n",
            "    <SUM_YM></SUM_YM>\n",
            "    <SIGUN_NM>고양시</SIGUN_NM>\n",
            "    <SIGUN_CD>41280</SIGUN_CD>\n",
            "    <PRVTUSE_ROAD_ROUTE_CNT>22</PRVTUSE_ROAD_ROUTE_CNT>\n",
            "    <PRVTUSE_ROAD_EXTS>43.41</PRVTUSE_ROAD_EXTS>\n",
            "    <PEDSTCMB_ROAD_ROUTE_CNT>248</PEDSTCMB_ROAD_ROUTE_CNT>\n",
            "    <PEDSTCMB_ROAD_EXTS>361.8</PEDSTCMB_ROAD_EXTS>\n",
            "    <PRVTUSE_CARTRK_ROUTE_CNT>2</PRVTUSE_CARTRK_ROUTE_CNT>\n",
            "    <PRVTUSE_CARTRK_EXTS>0.37</PRVTUSE_CARTRK_EXTS>\n",
            "    <BICYCL_ROAD_ROUTE_CNT>13</BICYCL_ROAD_ROUTE_CNT>\n",
            "    <BICYCL_ROAD_EXTS>20.79</BICYCL_ROAD_EXTS>\n",
            "    <BICYCL_ROAD_BIZ_EXPN>2570000000</BICYCL_ROAD_BIZ_EXPN>\n",
            "  </row>\n",
            "  <row>\n",
            "    <SUM_YM></SUM_YM>\n",
            "    <SIGUN_NM>용인시</SIGUN_NM>\n",
            "    <SIGUN_CD>41460</SIGUN_CD>\n",
            "    <PRVTUSE_ROAD_ROUTE_CNT>23</PRVTUSE_ROAD_ROUTE_CNT>\n",
            "    <PRVTUSE_ROAD_EXTS>28.13</PRVTUSE_ROAD_EXTS>\n",
            "    <PEDSTCMB_ROAD_ROUTE_CNT>640</PEDSTCMB_ROAD_ROUTE_CNT>\n",
            "    <PEDSTCMB_ROAD_EXTS>306</PEDSTCMB_ROAD_EXTS>\n",
            "    <PRVTUSE_CARTRK_ROUTE_CNT>0</PRVTUSE_CARTRK_ROUTE_CNT>\n",
            "    <PRVTUSE_CARTRK_EXTS>0</PRVTUSE_CARTRK_EXTS>\n",
            "    <BICYCL_ROAD_ROUTE_CNT>0</BICYCL_ROAD_ROUTE_CNT>\n",
            "    <BICYCL_ROAD_EXTS>0</BICYCL_ROAD_EXTS>\n",
            "    <BICYCL_ROAD_BIZ_EXPN>3000000000</BICYCL_ROAD_BIZ_EXPN>\n",
            "  </row>\n",
            "  <row>\n",
            "    <SUM_YM></SUM_YM>\n",
            "    <SIGUN_NM>성남시</SIGUN_NM>\n",
            "    <SIGUN_CD>41130</SIGUN_CD>\n",
            "    <PRVTUSE_ROAD_ROUTE_CNT>3</PRVTUSE_ROAD_ROUTE_CNT>\n",
            "    <PRVTUSE_ROAD_EXTS>4.9</PRVTUSE_ROAD_EXTS>\n",
            "    <PEDSTCMB_ROAD_ROUTE_CNT>249</PEDSTCMB_ROAD_ROUTE_CNT>\n",
            "    <PEDSTCMB_ROAD_EXTS>349.2</PEDSTCMB_ROAD_EXTS>\n",
            "    <PRVTUSE_CARTRK_ROUTE_CNT>0</PRVTUSE_CARTRK_ROUTE_CNT>\n",
            "    <PRVTUSE_CARTRK_EXTS>0</PRVTUSE_CARTRK_EXTS>\n",
            "    <BICYCL_ROAD_ROUTE_CNT>0</BICYCL_ROAD_ROUTE_CNT>\n",
            "    <BICYCL_ROAD_EXTS>0</BICYCL_ROAD_EXTS>\n",
            "    <BICYCL_ROAD_BIZ_EXPN>610040000</BICYCL_ROAD_BIZ_EXPN>\n",
            "  </row>\n",
            "</BicycleRoad>\n",
            "\n",
            "\n"
          ]
        }
      ]
    },
    {
      "cell_type": "code",
      "source": [
        "soup=BeautifulSoup(req.text, features=\"xml\")\n",
        "soup.find_all('a', {\"SIGUN_NM\" : \"수원시\"})"
      ],
      "metadata": {
        "id": "BCT8Yfcy4L8T",
        "colab": {
          "base_uri": "https://localhost:8080/"
        },
        "outputId": "542f06ca-370c-49db-ec55-9f5898747a23"
      },
      "execution_count": 62,
      "outputs": [
        {
          "output_type": "execute_result",
          "data": {
            "text/plain": [
              "[]"
            ]
          },
          "metadata": {},
          "execution_count": 62
        }
      ]
    }
  ]
}